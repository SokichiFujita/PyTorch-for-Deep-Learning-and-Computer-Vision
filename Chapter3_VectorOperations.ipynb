{
  "nbformat": 4,
  "nbformat_minor": 0,
  "metadata": {
    "colab": {
      "name": "Chapter3_VectorOperations.ipynb",
      "provenance": [],
      "authorship_tag": "ABX9TyNlJD604Br8cjm7IpCbJ9tI",
      "include_colab_link": true
    },
    "kernelspec": {
      "name": "python3",
      "display_name": "Python 3"
    }
  },
  "cells": [
    {
      "cell_type": "markdown",
      "metadata": {
        "id": "view-in-github",
        "colab_type": "text"
      },
      "source": [
        "<a href=\"https://colab.research.google.com/github/SokichiFujita/PyTorch-for-Deep-Learning-and-Computer-Vision/blob/master/Chapter3_VectorOperations.ipynb\" target=\"_parent\"><img src=\"https://colab.research.google.com/assets/colab-badge.svg\" alt=\"Open In Colab\"/></a>"
      ]
    },
    {
      "cell_type": "code",
      "metadata": {
        "id": "OG9cBgQ6OsCc",
        "colab_type": "code",
        "colab": {}
      },
      "source": [
        "import torch"
      ],
      "execution_count": 0,
      "outputs": []
    },
    {
      "cell_type": "code",
      "metadata": {
        "id": "q9xERdWgQKxq",
        "colab_type": "code",
        "colab": {
          "base_uri": "https://localhost:8080/",
          "height": 34
        },
        "outputId": "310c3f3f-df36-4407-b9a4-dfe7aa9e6ec7"
      },
      "source": [
        "t_one = torch.tensor([1,2,3])\n",
        "t_two = torch.tensor([1,2,3])\n",
        "t_one + t_two"
      ],
      "execution_count": 4,
      "outputs": [
        {
          "output_type": "execute_result",
          "data": {
            "text/plain": [
              "tensor([ 5, 10, 15])"
            ]
          },
          "metadata": {
            "tags": []
          },
          "execution_count": 4
        }
      ]
    },
    {
      "cell_type": "code",
      "metadata": {
        "id": "aWT9-8mxQd7M",
        "colab_type": "code",
        "colab": {
          "base_uri": "https://localhost:8080/",
          "height": 34
        },
        "outputId": "bea75e59-3407-499a-d1dc-40c3e4a1655c"
      },
      "source": [
        "t_one * t_two"
      ],
      "execution_count": 5,
      "outputs": [
        {
          "output_type": "execute_result",
          "data": {
            "text/plain": [
              "tensor([1, 4, 9])"
            ]
          },
          "metadata": {
            "tags": []
          },
          "execution_count": 5
        }
      ]
    },
    {
      "cell_type": "code",
      "metadata": {
        "id": "V7y3aSCJQfhg",
        "colab_type": "code",
        "colab": {
          "base_uri": "https://localhost:8080/",
          "height": 34
        },
        "outputId": "0d48986c-c7df-4bfa-ae9b-b64696f8b7b1"
      },
      "source": [
        "t_one * 5"
      ],
      "execution_count": 6,
      "outputs": [
        {
          "output_type": "execute_result",
          "data": {
            "text/plain": [
              "tensor([ 5, 10, 15])"
            ]
          },
          "metadata": {
            "tags": []
          },
          "execution_count": 6
        }
      ]
    },
    {
      "cell_type": "code",
      "metadata": {
        "id": "3fYKh7-DQiLI",
        "colab_type": "code",
        "colab": {
          "base_uri": "https://localhost:8080/",
          "height": 34
        },
        "outputId": "386a3899-794e-47f6-8fda-6a87e390a23f"
      },
      "source": [
        "dot_product = torch.dot(t_one, t_two)\n",
        "print(dot_product)"
      ],
      "execution_count": 10,
      "outputs": [
        {
          "output_type": "stream",
          "text": [
            "tensor(14)\n"
          ],
          "name": "stdout"
        }
      ]
    },
    {
      "cell_type": "code",
      "metadata": {
        "id": "Zdluka0UQnA2",
        "colab_type": "code",
        "colab": {
          "base_uri": "https://localhost:8080/",
          "height": 136
        },
        "outputId": "341c7e0c-8c8c-413c-f195-34d584dddcfa"
      },
      "source": [
        "x = torch.linspace(0,10,50)\n",
        "print(x)"
      ],
      "execution_count": 30,
      "outputs": [
        {
          "output_type": "stream",
          "text": [
            "tensor([ 0.0000,  0.2041,  0.4082,  0.6122,  0.8163,  1.0204,  1.2245,  1.4286,\n",
            "         1.6327,  1.8367,  2.0408,  2.2449,  2.4490,  2.6531,  2.8571,  3.0612,\n",
            "         3.2653,  3.4694,  3.6735,  3.8776,  4.0816,  4.2857,  4.4898,  4.6939,\n",
            "         4.8980,  5.1020,  5.3061,  5.5102,  5.7143,  5.9184,  6.1224,  6.3265,\n",
            "         6.5306,  6.7347,  6.9388,  7.1429,  7.3469,  7.5510,  7.7551,  7.9592,\n",
            "         8.1633,  8.3673,  8.5714,  8.7755,  8.9796,  9.1837,  9.3878,  9.5918,\n",
            "         9.7959, 10.0000])\n"
          ],
          "name": "stdout"
        }
      ]
    },
    {
      "cell_type": "code",
      "metadata": {
        "id": "UdutScI_QyIZ",
        "colab_type": "code",
        "colab": {
          "base_uri": "https://localhost:8080/",
          "height": 170
        },
        "outputId": "de5477aa-faaf-4231-b268-78420bcb3b9f"
      },
      "source": [
        "y = torch.exp(x)\n",
        "print(y)"
      ],
      "execution_count": 32,
      "outputs": [
        {
          "output_type": "stream",
          "text": [
            "tensor([1.0000e+00, 1.2264e+00, 1.5041e+00, 1.8446e+00, 2.2622e+00, 2.7743e+00,\n",
            "        3.4024e+00, 4.1727e+00, 5.1174e+00, 6.2760e+00, 7.6969e+00, 9.4395e+00,\n",
            "        1.1577e+01, 1.4197e+01, 1.7412e+01, 2.1354e+01, 2.6188e+01, 3.2117e+01,\n",
            "        3.9388e+01, 4.8306e+01, 5.9242e+01, 7.2654e+01, 8.9103e+01, 1.0928e+02,\n",
            "        1.3402e+02, 1.6436e+02, 2.0157e+02, 2.4720e+02, 3.0317e+02, 3.7180e+02,\n",
            "        4.5598e+02, 5.5921e+02, 6.8582e+02, 8.4109e+02, 1.0315e+03, 1.2650e+03,\n",
            "        1.5514e+03, 1.9027e+03, 2.3334e+03, 2.8617e+03, 3.5096e+03, 4.3042e+03,\n",
            "        5.2787e+03, 6.4737e+03, 7.9394e+03, 9.7369e+03, 1.1941e+04, 1.4645e+04,\n",
            "        1.7960e+04, 2.2026e+04])\n"
          ],
          "name": "stdout"
        }
      ]
    },
    {
      "cell_type": "code",
      "metadata": {
        "id": "VVHakvomQ5Ey",
        "colab_type": "code",
        "colab": {}
      },
      "source": [
        "import matplotlib.pyplot as plt"
      ],
      "execution_count": 0,
      "outputs": []
    },
    {
      "cell_type": "code",
      "metadata": {
        "id": "lMDgL5KORBMj",
        "colab_type": "code",
        "colab": {
          "base_uri": "https://localhost:8080/",
          "height": 282
        },
        "outputId": "598d7f9d-b68d-4df1-a6ce-d35182eed214"
      },
      "source": [
        "plt.plot(x,y)"
      ],
      "execution_count": 34,
      "outputs": [
        {
          "output_type": "execute_result",
          "data": {
            "text/plain": [
              "[<matplotlib.lines.Line2D at 0x7fcaf3734470>]"
            ]
          },
          "metadata": {
            "tags": []
          },
          "execution_count": 34
        },
        {
          "output_type": "display_data",
          "data": {
            "image/png": "[encoded data removed]",
            "text/plain": [
              "<Figure size 432x288 with 1 Axes>"
            ]
          },
          "metadata": {
            "tags": []
          }
        }
      ]
    },
    {
      "cell_type": "code",
      "metadata": {
        "id": "Qznk8F5FRFW3",
        "colab_type": "code",
        "colab": {
          "base_uri": "https://localhost:8080/",
          "height": 282
        },
        "outputId": "7b70da5a-2fce-40f1-c83b-d5156af11531"
      },
      "source": [
        "plt.plot(x.numpy(), y.numpy())"
      ],
      "execution_count": 35,
      "outputs": [
        {
          "output_type": "execute_result",
          "data": {
            "text/plain": [
              "[<matplotlib.lines.Line2D at 0x7fcaf3711198>]"
            ]
          },
          "metadata": {
            "tags": []
          },
          "execution_count": 35
        },
        {
          "output_type": "display_data",
          "data": {
            "image/png": "[encoded data removed]",
            "text/plain": [
              "<Figure size 432x288 with 1 Axes>"
            ]
          },
          "metadata": {
            "tags": []
          }
        }
      ]
    }
  ]
}