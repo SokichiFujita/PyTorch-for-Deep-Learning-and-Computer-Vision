{
  "nbformat": 4,
  "nbformat_minor": 0,
  "metadata": {
    "colab": {
      "name": "Chapter5_Perceptrons.ipynb",
      "provenance": [],
      "authorship_tag": "ABX9TyOC6/FkUtOtI7PEnAcmwpRu",
      "include_colab_link": true
    },
    "kernelspec": {
      "name": "python3",
      "display_name": "Python 3"
    }
  },
  "cells": [
    {
      "cell_type": "markdown",
      "metadata": {
        "id": "view-in-github",
        "colab_type": "text"
      },
      "source": [
        "<a href=\"https://colab.research.google.com/github/SokichiFujita/PyTorch-for-Deep-Learning-and-Computer-Vision/blob/master/Chapter5_Perceptrons.ipynb\" target=\"_parent\"><img src=\"https://colab.research.google.com/assets/colab-badge.svg\" alt=\"Open In Colab\"/></a>"
      ]
    },
    {
      "cell_type": "code",
      "metadata": {
        "id": "c5_-F5e4mnse",
        "colab_type": "code",
        "colab": {}
      },
      "source": [
        "import torch\n",
        "import torch.nn as nn\n",
        "import matplotlib.pyplot as plt \n",
        "import numpy as np\n",
        "from sklearn import datasets"
      ],
      "execution_count": 0,
      "outputs": []
    },
    {
      "cell_type": "code",
      "metadata": {
        "id": "diX1k_Oumols",
        "colab_type": "code",
        "colab": {
          "base_uri": "https://localhost:8080/",
          "height": 1000
        },
        "outputId": "620b8dde-5394-45e2-fa4a-db3074b1a820"
      },
      "source": [
        "number_points = 100\n",
        "X, y = datasets.make_blobs(n_samples=number_points, n_features=2, random_state=123, centers=2, cluster_std=3) # API is changed\n",
        "print(X.shape, X)\n",
        "print(y.shape, y)\n",
        "\n",
        "def scatter_plot():\n",
        "  plt.scatter(X[y==0, 0], X[y==0,1])\n",
        "  plt.scatter(X[y==1, 0], X[y==1,1])\n",
        "\n",
        "scatter_plot()\n",
        "\n",
        "x_data = torch.Tensor(X)\n",
        "y_data = torch.Tensor(y)"
      ],
      "execution_count": 80,
      "outputs": [
        {
          "output_type": "stream",
          "text": [
            "(100, 2) [[  6.6506993   -8.5632554 ]\n",
            " [  9.16052039  -6.67140151]\n",
            " [  2.7192856   -4.65530206]\n",
            " [ -9.69863756  -4.60431059]\n",
            " [  6.71177101  -4.79812035]\n",
            " [ -4.03992904  -0.66547641]\n",
            " [ 10.54717396   2.28314497]\n",
            " [  3.1625256  -12.67298062]\n",
            " [ -6.63783036   1.4462297 ]\n",
            " [  8.40355259  -6.19391929]\n",
            " [ -6.29032897  -0.63002883]\n",
            " [ -6.48675608   0.3724566 ]\n",
            " [  7.41599586  -7.56882244]\n",
            " [  0.04712774  -7.39357793]\n",
            " [ -7.6686218    2.53004235]\n",
            " [  5.85554778 -10.2108771 ]\n",
            " [  0.16774171  -6.19046781]\n",
            " [ -4.7015215    1.87747145]\n",
            " [ -3.35304058  -0.76802061]\n",
            " [  7.69509584  -6.34382025]\n",
            " [  1.51328416  -9.46022178]\n",
            " [ -6.18197727   1.45621858]\n",
            " [ -0.90637406  -0.03570496]\n",
            " [ 10.19072379  -3.78388961]\n",
            " [  0.4152631   -5.04884191]\n",
            " [ -2.43991734  -1.15803203]\n",
            " [ -7.73228256   1.99135511]\n",
            " [  6.86559173   2.43721671]\n",
            " [  4.4724891   -0.74362748]\n",
            " [  1.12188211  -0.74972617]\n",
            " [  4.8721997   -8.25600968]\n",
            " [  5.33470107  -6.77067825]\n",
            " [  1.29077468  -3.42633133]\n",
            " [ -7.93326515   1.41694024]\n",
            " [  6.60150289   0.98744524]\n",
            " [  2.92435143  -1.18386992]\n",
            " [  6.06617762   3.51769848]\n",
            " [ -1.66107499   2.02459031]\n",
            " [ -7.68541225   1.24501711]\n",
            " [  2.59743783  -5.58026713]\n",
            " [ -4.92432247  -4.55963175]\n",
            " [  1.73199775  -7.91478269]\n",
            " [ -5.53684887   1.12872177]\n",
            " [ -4.54081827  -0.80738064]\n",
            " [ -4.87191413  -8.66686964]\n",
            " [ -7.10973217  -1.90787774]\n",
            " [  3.50917755  -6.86247799]\n",
            " [  5.06758555  -5.4147426 ]\n",
            " [ -8.52193614   1.53012227]\n",
            " [  8.91224118  -1.85528874]\n",
            " [  7.38000034  -8.07926945]\n",
            " [  0.67567998  -8.36762793]\n",
            " [ -6.74600972   4.75490403]\n",
            " [ -5.18258844   5.40506319]\n",
            " [ -7.10983622   6.44420571]\n",
            " [  2.98510927  -7.5349205 ]\n",
            " [  6.14148944   0.19498278]\n",
            " [ -0.63689802   0.21559821]\n",
            " [ -0.8919796   -2.25878399]\n",
            " [ -4.09415824   5.65992874]\n",
            " [  1.61125757  -1.8926253 ]\n",
            " [  4.0184334   -1.06926539]\n",
            " [  1.13913537   3.09118617]\n",
            " [ -9.57581634   0.02886956]\n",
            " [ -6.5274443    2.20104811]\n",
            " [ -3.46601061  -1.66897344]\n",
            " [  4.94515086  -4.31270478]\n",
            " [ -8.45493534  -2.27383396]\n",
            " [  2.75668433  -2.55579571]\n",
            " [ -6.2708514    0.69374322]\n",
            " [ -3.80140243  -0.5657283 ]\n",
            " [ -3.35065402  -5.56395119]\n",
            " [  3.93792146  -2.21254517]\n",
            " [ -3.18012275   1.99670193]\n",
            " [  8.41631612  -1.06903529]\n",
            " [ -3.02594694   2.52551582]\n",
            " [  6.94154541  -3.1186541 ]\n",
            " [ -3.79332481   0.39005501]\n",
            " [  4.06585395  -4.97648948]\n",
            " [ -5.10072884   3.27094223]\n",
            " [ -4.25371305   5.44208349]\n",
            " [ 11.10647951  -3.03847682]\n",
            " [ -5.40202293   0.44440377]\n",
            " [ -5.06089055   3.1397176 ]\n",
            " [  1.89272526  -4.56134021]\n",
            " [  8.18128085  -1.8555037 ]\n",
            " [ -1.27691214  -0.0505124 ]\n",
            " [ -2.42475377   1.86251795]\n",
            " [ -5.22528989   0.20310566]\n",
            " [  0.33448028  -3.67864108]\n",
            " [ -7.10889731  -6.64486843]\n",
            " [ -4.93139394   0.93639136]\n",
            " [ -1.3852156   -6.376845  ]\n",
            " [  7.72719249  -6.87743451]\n",
            " [ -8.60994596   0.80093362]\n",
            " [ -4.18453101  -3.78993385]\n",
            " [  1.41683354  -9.09510158]\n",
            " [ -4.8642246    0.64794206]\n",
            " [ -1.33119848   0.59676746]\n",
            " [  2.19358296   0.67709631]]\n",
            "(100,) [0 0 0 1 0 1 0 0 1 0 1 1 0 0 1 0 0 1 1 0 0 1 1 0 1 0 1 0 0 0 0 0 0 1 0 0 0\n",
            " 1 1 0 1 0 1 1 1 1 0 0 1 0 0 0 1 1 1 0 0 1 1 1 0 0 1 1 1 1 0 1 0 1 1 0 0 1\n",
            " 0 1 0 1 0 1 1 0 1 1 0 0 1 1 1 0 1 1 0 0 1 1 0 1 1 0]\n"
          ],
          "name": "stdout"
        },
        {
          "output_type": "display_data",
          "data": {
            "image/png": "[encoded data removed]",
            "text/plain": [
              "<Figure size 432x288 with 1 Axes>"
            ]
          },
          "metadata": {
            "tags": []
          }
        }
      ]
    },
    {
      "cell_type": "code",
      "metadata": {
        "id": "n93i62qmn0cy",
        "colab_type": "code",
        "colab": {}
      },
      "source": [
        "class Model(nn.Module):\n",
        "  def __init__(self,input_size, output_size):\n",
        "    super().__init__()\n",
        "    self.linear = nn.Linear(input_size, output_size)\n",
        "  def forward(self, x):\n",
        "    pred = torch.sigmoid(self.linear(x))\n",
        "    return pred"
      ],
      "execution_count": 0,
      "outputs": []
    },
    {
      "cell_type": "code",
      "metadata": {
        "id": "kN9o4KYjxXlm",
        "colab_type": "code",
        "colab": {
          "base_uri": "https://localhost:8080/",
          "height": 68
        },
        "outputId": "c00f4cd3-9025-436f-af89-2fd9592e69fc"
      },
      "source": [
        "torch.manual_seed(2)\n",
        "model = Model(2,1)\n",
        "print(list(model.parameters()))"
      ],
      "execution_count": 82,
      "outputs": [
        {
          "output_type": "stream",
          "text": [
            "[Parameter containing:\n",
            "tensor([[ 0.1622, -0.1683]], requires_grad=True), Parameter containing:\n",
            "tensor([0.1939], requires_grad=True)]\n"
          ],
          "name": "stdout"
        }
      ]
    },
    {
      "cell_type": "code",
      "metadata": {
        "id": "9UfRJBxuxiMF",
        "colab_type": "code",
        "colab": {}
      },
      "source": [
        "[w, b] = model.parameters()\n",
        "w1, w2 = w.view(2)\n",
        "def get_params():\n",
        "  return (w1.item(), w2.item(), b[0].item())"
      ],
      "execution_count": 0,
      "outputs": []
    },
    {
      "cell_type": "code",
      "metadata": {
        "id": "MQPUfV1byKOf",
        "colab_type": "code",
        "colab": {}
      },
      "source": [
        "def plot_fit(title):\n",
        "  plt.title = title\n",
        "  w1, w2, b1 = get_params()\n",
        "  x1 = np.array([-10,10, -10,10])\n",
        "  x2 = (w1 * x1 + b1) / -w2\n",
        "  plt.plot(x1,x2,'r')\n",
        "  scatter_plot()"
      ],
      "execution_count": 0,
      "outputs": []
    },
    {
      "cell_type": "code",
      "metadata": {
        "id": "co7As2wYzBYM",
        "colab_type": "code",
        "colab": {
          "base_uri": "https://localhost:8080/",
          "height": 265
        },
        "outputId": "96921ef5-17ec-4b92-b585-d12ada39836e"
      },
      "source": [
        "plot_fit(\"Initial Model\")"
      ],
      "execution_count": 94,
      "outputs": [
        {
          "output_type": "display_data",
          "data": {
            "image/png": "[encoded data removed]",
            "text/plain": [
              "<Figure size 432x288 with 1 Axes>"
            ]
          },
          "metadata": {
            "tags": []
          }
        }
      ]
    },
    {
      "cell_type": "code",
      "metadata": {
        "id": "Hm4nvRZlzf2V",
        "colab_type": "code",
        "colab": {}
      },
      "source": [
        ""
      ],
      "execution_count": 0,
      "outputs": []
    }
  ]
}