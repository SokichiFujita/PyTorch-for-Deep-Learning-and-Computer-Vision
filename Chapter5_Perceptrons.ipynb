{
  "nbformat": 4,
  "nbformat_minor": 0,
  "metadata": {
    "colab": {
      "name": "Chapter5_Perceptrons.ipynb",
      "provenance": [],
      "authorship_tag": "ABX9TyMWrEiX6tB1A9eLw2eQHr7K",
      "include_colab_link": true
    },
    "kernelspec": {
      "name": "python3",
      "display_name": "Python 3"
    }
  },
  "cells": [
    {
      "cell_type": "markdown",
      "metadata": {
        "id": "view-in-github",
        "colab_type": "text"
      },
      "source": [
        "<a href=\"https://colab.research.google.com/github/SokichiFujita/PyTorch-for-Deep-Learning-and-Computer-Vision/blob/master/Chapter5_Perceptrons.ipynb\" target=\"_parent\"><img src=\"https://colab.research.google.com/assets/colab-badge.svg\" alt=\"Open In Colab\"/></a>"
      ]
    },
    {
      "cell_type": "code",
      "metadata": {
        "id": "c5_-F5e4mnse",
        "colab_type": "code",
        "colab": {}
      },
      "source": [
        "import torch\n",
        "import torch.nn as nn\n",
        "import matplotlib.pyplot as plt \n",
        "import numpy as np\n",
        "from sklearn import datasets"
      ],
      "execution_count": 0,
      "outputs": []
    },
    {
      "cell_type": "code",
      "metadata": {
        "id": "diX1k_Oumols",
        "colab_type": "code",
        "colab": {
          "base_uri": "https://localhost:8080/",
          "height": 1000
        },
        "outputId": "3f08e0d5-8427-42bb-f331-5f65bfa50328"
      },
      "source": [
        "number_points = 100\n",
        "X, y = datasets.make_blobs(n_samples=number_points, n_features=2, random_state=123, centers=2, cluster_std=4) # API has been changed\n",
        "print(X.shape, X)\n",
        "print(y.shape, y)\n",
        "\n",
        "def scatter_plot():\n",
        "  plt.scatter(X[y==0, 0], X[y==0,1])\n",
        "  plt.scatter(X[y==1, 0], X[y==1,1])\n",
        "\n",
        "scatter_plot()\n",
        "\n",
        "x_data = torch.Tensor(X)\n",
        "y_data = torch.Tensor(y.reshape(100,1))"
      ],
      "execution_count": 187,
      "outputs": [
        {
          "output_type": "stream",
          "text": [
            "(100, 2) [[ 7.55780450e+00 -9.99193610e+00]\n",
            " [ 1.09042326e+01 -7.46946424e+00]\n",
            " [ 2.31591956e+00 -4.78133164e+00]\n",
            " [-1.11105264e+01 -6.48117924e+00]\n",
            " [ 7.63923344e+00 -4.97175603e+00]\n",
            " [-3.56558174e+00 -1.22940034e+00]\n",
            " [ 1.27531040e+01  4.46993105e+00]\n",
            " [ 2.90690623e+00 -1.54715697e+01]\n",
            " [-7.02945017e+00  1.58620781e+00]\n",
            " [ 9.89494222e+00 -6.83282129e+00]\n",
            " [-6.56611498e+00 -1.18213690e+00]\n",
            " [-6.82801779e+00  1.54510333e-01]\n",
            " [ 8.57819991e+00 -8.66602549e+00]\n",
            " [-1.24695758e+00 -8.43236614e+00]\n",
            " [-8.40383875e+00  3.03129134e+00]\n",
            " [ 6.49760247e+00 -1.21887650e+01]\n",
            " [-1.08613896e+00 -6.82821931e+00]\n",
            " [-4.44770502e+00  2.16119680e+00]\n",
            " [-2.64973046e+00 -1.36612594e+00]\n",
            " [ 8.95033321e+00 -7.03268924e+00]\n",
            " [ 7.07917640e-01 -1.11878913e+01]\n",
            " [-6.42164605e+00  1.59952631e+00]\n",
            " [ 6.12491566e-01 -3.89705069e-01]\n",
            " [ 1.22778372e+01 -3.61944838e+00]\n",
            " [ 2.37467444e+00 -7.07388767e+00]\n",
            " [-4.56301769e+00 -1.18304937e-01]\n",
            " [-8.48871977e+00  2.31304169e+00]\n",
            " [ 7.84432774e+00  4.67536005e+00]\n",
            " [ 4.65352423e+00  4.34234454e-01]\n",
            " [ 1.86048238e-01  4.26102878e-01]\n",
            " [ 5.18647169e+00 -9.58227514e+00]\n",
            " [ 5.80314019e+00 -7.60183324e+00]\n",
            " [ 4.11238340e-01 -3.14270401e+00]\n",
            " [-8.75669655e+00  1.54715520e+00]\n",
            " [ 7.49220928e+00  2.74233143e+00]\n",
            " [ 2.58934066e+00 -1.52755465e-01]\n",
            " [ 6.77844225e+00  6.11600241e+00]\n",
            " [-3.93776348e-01  2.35735529e+00]\n",
            " [-8.42622602e+00  1.31792435e+00]\n",
            " [ 2.15345587e+00 -6.01461840e+00]\n",
            " [-4.74477299e+00 -6.42160746e+00]\n",
            " [ 9.99535765e-01 -9.12730583e+00]\n",
            " [-5.56147485e+00  1.16286390e+00]\n",
            " [-4.23343405e+00 -1.41860598e+00]\n",
            " [-4.67489520e+00 -1.18979247e+01]\n",
            " [-7.65865258e+00 -2.88593544e+00]\n",
            " [ 3.36910883e+00 -7.72423288e+00]\n",
            " [ 5.44698616e+00 -5.79391904e+00]\n",
            " [-9.54159121e+00  1.69806456e+00]\n",
            " [ 1.05731937e+01 -1.04798056e+00]\n",
            " [ 8.53020588e+00 -9.34662150e+00]\n",
            " [-4.08887936e-01 -9.73109948e+00]\n",
            " [-7.17368932e+00  5.99777358e+00]\n",
            " [-5.08912761e+00  6.86465245e+00]\n",
            " [-7.65879131e+00  8.25017582e+00]\n",
            " [ 2.67035113e+00 -8.62082291e+00]\n",
            " [ 6.87885802e+00  1.68571481e+00]\n",
            " [ 9.71792943e-01 -5.46341864e-02]\n",
            " [ 6.31684177e-01 -3.35381045e+00]\n",
            " [-3.63788735e+00  7.20447319e+00]\n",
            " [ 8.38548855e-01 -1.09776263e+00]\n",
            " [ 4.04811663e+00  5.05767050e-05]\n",
            " [ 3.33983747e+00  3.77948310e+00]\n",
            " [-1.09467648e+01 -3.03605720e-01]\n",
            " [-6.88226876e+00  2.59263235e+00]\n",
            " [-2.80035718e+00 -2.56739638e+00]\n",
            " [ 5.28373992e+00 -4.32453528e+00]\n",
            " [-9.45225680e+00 -3.37387707e+00]\n",
            " [ 2.36578454e+00 -1.98198985e+00]\n",
            " [-6.54014489e+00  5.82892497e-01]\n",
            " [-3.24754626e+00 -1.09640286e+00]\n",
            " [-5.77733326e+00 -5.99286382e+00]\n",
            " [ 3.94076738e+00 -1.52432246e+00]\n",
            " [-2.41917336e+00  2.32017077e+00]\n",
            " [ 9.91196026e+00  3.57377831e-04]\n",
            " [-2.21360561e+00  3.02525596e+00]\n",
            " [ 7.94559930e+00 -2.73246770e+00]\n",
            " [-3.23677611e+00  1.77974893e-01]\n",
            " [ 4.11134403e+00 -5.20958154e+00]\n",
            " [-4.97998148e+00  4.01915785e+00]\n",
            " [-3.85062708e+00  6.91401286e+00]\n",
            " [ 1.34988448e+01 -2.62556466e+00]\n",
            " [-5.38170694e+00  2.50439899e-01]\n",
            " [-4.92686376e+00  3.84419168e+00]\n",
            " [ 1.21383911e+00 -4.65604918e+00]\n",
            " [ 9.59857990e+00 -1.04826716e+00]\n",
            " [ 1.18440790e-01 -4.09448323e-01]\n",
            " [-1.41201471e+00  2.14125881e+00]\n",
            " [-5.14606287e+00 -7.12909124e-02]\n",
            " [-8.63820867e-01 -3.47911701e+00]\n",
            " [-7.65753944e+00 -9.20192303e+00]\n",
            " [-4.75420161e+00  9.06423353e-01]\n",
            " [-3.15674871e+00 -7.07672224e+00]\n",
            " [ 8.99312875e+00 -7.74417491e+00]\n",
            " [-9.65893764e+00  7.25813030e-01]\n",
            " [-3.75838437e+00 -5.39534359e+00]\n",
            " [ 5.79316821e-01 -1.07010643e+01]\n",
            " [-4.66464248e+00  5.21824289e-01]\n",
            " [ 4.60590028e-02  4.53591484e-01]\n",
            " [ 1.61498270e+00  2.32853285e+00]]\n",
            "(100,) [0 0 0 1 0 1 0 0 1 0 1 1 0 0 1 0 0 1 1 0 0 1 1 0 1 0 1 0 0 0 0 0 0 1 0 0 0\n",
            " 1 1 0 1 0 1 1 1 1 0 0 1 0 0 0 1 1 1 0 0 1 1 1 0 0 1 1 1 1 0 1 0 1 1 0 0 1\n",
            " 0 1 0 1 0 1 1 0 1 1 0 0 1 1 1 0 1 1 0 0 1 1 0 1 1 0]\n"
          ],
          "name": "stdout"
        },
        {
          "output_type": "display_data",
          "data": {
            "image/png": "[encoded data removed]",
            "text/plain": [
              "<Figure size 432x288 with 1 Axes>"
            ]
          },
          "metadata": {
            "tags": []
          }
        }
      ]
    },
    {
      "cell_type": "code",
      "metadata": {
        "id": "n93i62qmn0cy",
        "colab_type": "code",
        "colab": {}
      },
      "source": [
        "class Model(nn.Module):\n",
        "  def __init__(self,input_size, output_size):\n",
        "    super().__init__()\n",
        "    self.linear = nn.Linear(input_size, output_size)\n",
        "  def forward(self, x):\n",
        "    pred = torch.sigmoid(self.linear(x))\n",
        "    return pred\n",
        "  def predict(self, x):\n",
        "    pred = self.forward(x)\n",
        "    if pred >= 0.5:\n",
        "      return 1\n",
        "    else:\n",
        "      return 0"
      ],
      "execution_count": 0,
      "outputs": []
    },
    {
      "cell_type": "code",
      "metadata": {
        "id": "kN9o4KYjxXlm",
        "colab_type": "code",
        "colab": {
          "base_uri": "https://localhost:8080/",
          "height": 68
        },
        "outputId": "da233a5d-6e2d-4f38-fd7b-6958eb6cd266"
      },
      "source": [
        "torch.manual_seed(2)\n",
        "model = Model(2,1)\n",
        "print(list(model.parameters()))"
      ],
      "execution_count": 189,
      "outputs": [
        {
          "output_type": "stream",
          "text": [
            "[Parameter containing:\n",
            "tensor([[ 0.1622, -0.1683]], requires_grad=True), Parameter containing:\n",
            "tensor([0.1939], requires_grad=True)]\n"
          ],
          "name": "stdout"
        }
      ]
    },
    {
      "cell_type": "code",
      "metadata": {
        "id": "9UfRJBxuxiMF",
        "colab_type": "code",
        "colab": {}
      },
      "source": [
        "[w, b] = model.parameters()\n",
        "w1, w2 = w.view(2)\n",
        "\n",
        "def get_params():\n",
        "  return (w1.item(), w2.item(), b[0].item())"
      ],
      "execution_count": 0,
      "outputs": []
    },
    {
      "cell_type": "code",
      "metadata": {
        "id": "MQPUfV1byKOf",
        "colab_type": "code",
        "colab": {}
      },
      "source": [
        "def plot_fit(title):\n",
        "  plt.title = title\n",
        "  w1, w2, b1 = get_params()\n",
        "  x1 = np.array([-10,10, -10,10])\n",
        "  x2 = (w1 * x1 + b1) / -w2\n",
        "  plt.plot(x1,x2,'r')\n",
        "  scatter_plot()"
      ],
      "execution_count": 0,
      "outputs": []
    },
    {
      "cell_type": "code",
      "metadata": {
        "id": "co7As2wYzBYM",
        "colab_type": "code",
        "colab": {
          "base_uri": "https://localhost:8080/",
          "height": 265
        },
        "outputId": "7d2cc634-9768-440a-8ba5-0a984d4e18c7"
      },
      "source": [
        "plot_fit(\"Initial Model\")"
      ],
      "execution_count": 192,
      "outputs": [
        {
          "output_type": "display_data",
          "data": {
            "image/png": "[encoded data removed]",
            "text/plain": [
              "<Figure size 432x288 with 1 Axes>"
            ]
          },
          "metadata": {
            "tags": []
          }
        }
      ]
    },
    {
      "cell_type": "code",
      "metadata": {
        "id": "Hm4nvRZlzf2V",
        "colab_type": "code",
        "colab": {}
      },
      "source": [
        "criterion = nn.BCELoss()\n",
        "optimizer = torch.optim.SGD(model.parameters(), lr=0.01)"
      ],
      "execution_count": 0,
      "outputs": []
    },
    {
      "cell_type": "code",
      "metadata": {
        "id": "ztVyvSQe062v",
        "colab_type": "code",
        "colab": {}
      },
      "source": [
        "epochs = 1000\n",
        "losses = []\n",
        "\n",
        "for i in range(epochs):\n",
        "  y_pred = model.forward(x_data)\n",
        "  loss = criterion(y_pred, y_data)\n",
        "  #print(\"epoch:\", i, \"loss:\", loss.item())\n",
        "  \n",
        "  losses.append(loss.item())\n",
        "  optimizer.zero_grad()\n",
        "  loss.backward()\n",
        "  optimizer.step()"
      ],
      "execution_count": 0,
      "outputs": []
    },
    {
      "cell_type": "code",
      "metadata": {
        "id": "_Np8-DZ62fJQ",
        "colab_type": "code",
        "colab": {
          "base_uri": "https://localhost:8080/",
          "height": 296
        },
        "outputId": "4a9d3526-42f7-4979-9b37-de528bdbd4d0"
      },
      "source": [
        "plt.plot(range(epochs), losses)\n",
        "plt.ylabel('Loss')\n",
        "plt.xlabel('epoch')"
      ],
      "execution_count": 195,
      "outputs": [
        {
          "output_type": "execute_result",
          "data": {
            "text/plain": [
              "Text(0.5, 0, 'epoch')"
            ]
          },
          "metadata": {
            "tags": []
          },
          "execution_count": 195
        },
        {
          "output_type": "display_data",
          "data": {
            "image/png": "[encoded data removed]",
            "text/plain": [
              "<Figure size 432x288 with 1 Axes>"
            ]
          },
          "metadata": {
            "tags": []
          }
        }
      ]
    },
    {
      "cell_type": "code",
      "metadata": {
        "id": "nM07lS372xce",
        "colab_type": "code",
        "colab": {
          "base_uri": "https://localhost:8080/",
          "height": 333
        },
        "outputId": "ef36cdc0-d498-4b9c-fda8-3f314e79d3fe"
      },
      "source": [
        "point1 = torch.Tensor([5.0, -5.0])\n",
        "point2 = torch.Tensor([-5.0, 5.0])\n",
        "plt.plot(point1.numpy()[0], point1.numpy()[1], 'ro')\n",
        "plt.plot(point2.numpy()[0], point2.numpy()[1], 'ko')\n",
        "print(\"red point positive probability = {}\".format(model.forward(point1).item()))\n",
        "print(\"black point positive probability = {}\".format(model.forward(point2).item()))\n",
        "print(\"red point in class = {}\".format(model.predict(point1)))\n",
        "print(\"black point in class = {}\".format(model.predict(point2)))\n",
        "\n",
        "plot_fit(\"Trained Model\")"
      ],
      "execution_count": 196,
      "outputs": [
        {
          "output_type": "stream",
          "text": [
            "red point positive probability = 0.01687939465045929\n",
            "black point positive probability = 0.9902190566062927\n",
            "red point in class = 0\n",
            "black point in class = 1\n"
          ],
          "name": "stdout"
        },
        {
          "output_type": "display_data",
          "data": {
            "image/png": "[encoded data removed]",
            "text/plain": [
              "<Figure size 432x288 with 1 Axes>"
            ]
          },
          "metadata": {
            "tags": []
          }
        }
      ]
    },
    {
      "cell_type": "code",
      "metadata": {
        "id": "hGPCwRty4gS4",
        "colab_type": "code",
        "colab": {}
      },
      "source": [
        ""
      ],
      "execution_count": 0,
      "outputs": []
    }
  ]
}