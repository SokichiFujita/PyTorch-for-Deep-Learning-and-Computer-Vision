{
  "nbformat": 4,
  "nbformat_minor": 0,
  "metadata": {
    "colab": {
      "name": "Chapter4 Linear Regression.ipynb",
      "provenance": [],
      "collapsed_sections": [],
      "authorship_tag": "ABX9TyOHoq6nsbfSX+KvrT/CizEO",
      "include_colab_link": true
    },
    "kernelspec": {
      "name": "python3",
      "display_name": "Python 3"
    }
  },
  "cells": [
    {
      "cell_type": "markdown",
      "metadata": {
        "id": "view-in-github",
        "colab_type": "text"
      },
      "source": [
        "<a href=\"https://colab.research.google.com/github/SokichiFujita/PyTorch-for-Deep-Learning-and-Computer-Vision/blob/master/Chapter4_Linear_Regression.ipynb\" target=\"_parent\"><img src=\"https://colab.research.google.com/assets/colab-badge.svg\" alt=\"Open In Colab\"/></a>"
      ]
    },
    {
      "cell_type": "code",
      "metadata": {
        "id": "7r903OCBmPNG",
        "colab_type": "code",
        "colab": {}
      },
      "source": [
        "import torch\n",
        "import torch.nn as nn\n",
        "import matplotlib.pyplot as plt \n",
        "import numpy as np"
      ],
      "execution_count": 0,
      "outputs": []
    },
    {
      "cell_type": "code",
      "metadata": {
        "id": "GNcCKqyrpgYB",
        "colab_type": "code",
        "outputId": "66590103-c76a-4c6d-808d-4e2604c0c67f",
        "colab": {
          "base_uri": "https://localhost:8080/",
          "height": 296
        }
      },
      "source": [
        "X = torch.randn(100,1) * 10\n",
        "y = X + torch.randn(100,1) * 3\n",
        "plt.plot(X.numpy(),y.numpy(),'o')\n",
        "plt.xlabel('x')\n",
        "plt.ylabel('y')"
      ],
      "execution_count": 2,
      "outputs": [
        {
          "output_type": "execute_result",
          "data": {
            "text/plain": [
              "Text(0, 0.5, 'y')"
            ]
          },
          "metadata": {
            "tags": []
          },
          "execution_count": 2
        },
        {
          "output_type": "display_data",
          "data": {
            "image/png": "[encoded data removed]",
            "text/plain": [
              "<Figure size 432x288 with 1 Axes>"
            ]
          },
          "metadata": {
            "tags": []
          }
        }
      ]
    },
    {
      "cell_type": "code",
      "metadata": {
        "id": "Es8sR5sPmTZW",
        "colab_type": "code",
        "colab": {}
      },
      "source": [
        "class LR(nn.Module):\n",
        "  def __init__(self, input_size, output_size):\n",
        "    super().__init__()\n",
        "    self.linear = nn.Linear(input_size, output_size)\n",
        "  def forward(self, x):\n",
        "    pred = self.linear(x)\n",
        "    return pred"
      ],
      "execution_count": 0,
      "outputs": []
    },
    {
      "cell_type": "code",
      "metadata": {
        "id": "nBbdJi_1kO3u",
        "colab_type": "code",
        "colab": {
          "base_uri": "https://localhost:8080/",
          "height": 68
        },
        "outputId": "978330ef-9e71-46d1-f45f-7d4df3d04453"
      },
      "source": [
        "torch.manual_seed(1)\n",
        "model = LR(1, 1)\n",
        "print(model)"
      ],
      "execution_count": 4,
      "outputs": [
        {
          "output_type": "stream",
          "text": [
            "LR(\n",
            "  (linear): Linear(in_features=1, out_features=1, bias=True)\n",
            ")\n"
          ],
          "name": "stdout"
        }
      ]
    },
    {
      "cell_type": "code",
      "metadata": {
        "id": "hNu7xRC5qpsj",
        "colab_type": "code",
        "outputId": "c7a40642-4153-4e18-a28a-e84a58fc4cdc",
        "colab": {
          "base_uri": "https://localhost:8080/",
          "height": 85
        }
      },
      "source": [
        "[w,b] = model.parameters()\n",
        "print(w)\n",
        "print(b)"
      ],
      "execution_count": 5,
      "outputs": [
        {
          "output_type": "stream",
          "text": [
            "Parameter containing:\n",
            "tensor([[0.5153]], requires_grad=True)\n",
            "Parameter containing:\n",
            "tensor([-0.4414], requires_grad=True)\n"
          ],
          "name": "stdout"
        }
      ]
    },
    {
      "cell_type": "code",
      "metadata": {
        "id": "vPfC3fD4ejP-",
        "colab_type": "code",
        "colab": {}
      },
      "source": [
        "def get_params():\n",
        "  return (w[0][0].item(), b[0].item())"
      ],
      "execution_count": 0,
      "outputs": []
    },
    {
      "cell_type": "code",
      "metadata": {
        "id": "h-D69qNifRy8",
        "colab_type": "code",
        "colab": {}
      },
      "source": [
        "def plot_fit(title):\n",
        "  plt.title = title\n",
        "  w1, b1 = get_params()\n",
        "  x1 = np.array([-30,30])\n",
        "  y1 = w1 * x1 + b1\n",
        "  plt.plot(x1,y1,'r')\n",
        "  plt.scatter(X,y)\n",
        "  plt.show()"
      ],
      "execution_count": 0,
      "outputs": []
    },
    {
      "cell_type": "code",
      "metadata": {
        "id": "6XNH_DfKf625",
        "colab_type": "code",
        "outputId": "d08c0f1d-37a3-4a37-86da-135632d10dcf",
        "colab": {
          "base_uri": "https://localhost:8080/",
          "height": 265
        }
      },
      "source": [
        "plot_fit('Initial Model')"
      ],
      "execution_count": 8,
      "outputs": [
        {
          "output_type": "display_data",
          "data": {
            "image/png": "[encoded data removed]",
            "text/plain": [
              "<Figure size 432x288 with 1 Axes>"
            ]
          },
          "metadata": {
            "tags": []
          }
        }
      ]
    },
    {
      "cell_type": "code",
      "metadata": {
        "id": "QfNUlWkHf-sp",
        "colab_type": "code",
        "colab": {}
      },
      "source": [
        "criterion = nn.MSELoss() #Mean Squared Loss function\n",
        "optimizer = torch.optim.SGD(model.parameters(), lr = 0.01) #Stochastic Gradient Descent function"
      ],
      "execution_count": 0,
      "outputs": []
    },
    {
      "cell_type": "code",
      "metadata": {
        "id": "dnFh7BrDhacT",
        "colab_type": "code",
        "outputId": "1d6bcebe-bd08-43df-cc28-ab9157325aa6",
        "colab": {
          "base_uri": "https://localhost:8080/",
          "height": 1000
        }
      },
      "source": [
        "epochs = 100\n",
        "losses = []\n",
        "for i in range(epochs):\n",
        "  y_pred = model.forward(X)\n",
        "  loss = criterion(y_pred, y)\n",
        "  print('epoch:', i, 'loss:', loss.item())\n",
        "  \n",
        "  losses.append(loss)\n",
        "  optimizer.zero_grad()\n",
        "  loss.backward()\n",
        "  optimizer.step()"
      ],
      "execution_count": 10,
      "outputs": [
        {
          "output_type": "stream",
          "text": [
            "epoch: 0 loss: 33.32694625854492\n",
            "epoch: 1 loss: 24.704343795776367\n",
            "epoch: 2 loss: 19.53070831298828\n",
            "epoch: 3 loss: 16.424633026123047\n",
            "epoch: 4 loss: 14.558082580566406\n",
            "epoch: 5 loss: 13.434699058532715\n",
            "epoch: 6 loss: 12.756963729858398\n",
            "epoch: 7 loss: 12.34652042388916\n",
            "epoch: 8 loss: 12.096460342407227\n",
            "epoch: 9 loss: 11.942691802978516\n",
            "epoch: 10 loss: 11.846790313720703\n",
            "epoch: 11 loss: 11.785717964172363\n",
            "epoch: 12 loss: 11.745661735534668\n",
            "epoch: 13 loss: 11.718334197998047\n",
            "epoch: 14 loss: 11.698765754699707\n",
            "epoch: 15 loss: 11.683969497680664\n",
            "epoch: 16 loss: 11.672151565551758\n",
            "epoch: 17 loss: 11.662232398986816\n",
            "epoch: 18 loss: 11.653560638427734\n",
            "epoch: 19 loss: 11.64574146270752\n",
            "epoch: 20 loss: 11.638532638549805\n",
            "epoch: 21 loss: 11.631789207458496\n",
            "epoch: 22 loss: 11.625414848327637\n",
            "epoch: 23 loss: 11.619353294372559\n",
            "epoch: 24 loss: 11.613565444946289\n",
            "epoch: 25 loss: 11.608023643493652\n",
            "epoch: 26 loss: 11.60270881652832\n",
            "epoch: 27 loss: 11.597607612609863\n",
            "epoch: 28 loss: 11.592706680297852\n",
            "epoch: 29 loss: 11.587998390197754\n",
            "epoch: 30 loss: 11.58347225189209\n",
            "epoch: 31 loss: 11.579120635986328\n",
            "epoch: 32 loss: 11.574936866760254\n",
            "epoch: 33 loss: 11.570916175842285\n",
            "epoch: 34 loss: 11.567048072814941\n",
            "epoch: 35 loss: 11.56333065032959\n",
            "epoch: 36 loss: 11.559754371643066\n",
            "epoch: 37 loss: 11.556316375732422\n",
            "epoch: 38 loss: 11.553009986877441\n",
            "epoch: 39 loss: 11.54983139038086\n",
            "epoch: 40 loss: 11.546774864196777\n",
            "epoch: 41 loss: 11.543835639953613\n",
            "epoch: 42 loss: 11.541008949279785\n",
            "epoch: 43 loss: 11.538291931152344\n",
            "epoch: 44 loss: 11.53567886352539\n",
            "epoch: 45 loss: 11.53316593170166\n",
            "epoch: 46 loss: 11.530749320983887\n",
            "epoch: 47 loss: 11.528426170349121\n",
            "epoch: 48 loss: 11.526191711425781\n",
            "epoch: 49 loss: 11.524044036865234\n",
            "epoch: 50 loss: 11.521978378295898\n",
            "epoch: 51 loss: 11.519991874694824\n",
            "epoch: 52 loss: 11.518081665039062\n",
            "epoch: 53 loss: 11.51624584197998\n",
            "epoch: 54 loss: 11.514479637145996\n",
            "epoch: 55 loss: 11.512781143188477\n",
            "epoch: 56 loss: 11.511148452758789\n",
            "epoch: 57 loss: 11.509578704833984\n",
            "epoch: 58 loss: 11.508068084716797\n",
            "epoch: 59 loss: 11.506616592407227\n",
            "epoch: 60 loss: 11.505221366882324\n",
            "epoch: 61 loss: 11.503878593444824\n",
            "epoch: 62 loss: 11.50258731842041\n",
            "epoch: 63 loss: 11.501346588134766\n",
            "epoch: 64 loss: 11.500153541564941\n",
            "epoch: 65 loss: 11.499005317687988\n",
            "epoch: 66 loss: 11.497901916503906\n",
            "epoch: 67 loss: 11.496841430664062\n",
            "epoch: 68 loss: 11.495820999145508\n",
            "epoch: 69 loss: 11.494839668273926\n",
            "epoch: 70 loss: 11.493896484375\n",
            "epoch: 71 loss: 11.492989540100098\n",
            "epoch: 72 loss: 11.492116928100586\n",
            "epoch: 73 loss: 11.491277694702148\n",
            "epoch: 74 loss: 11.490471839904785\n",
            "epoch: 75 loss: 11.48969554901123\n",
            "epoch: 76 loss: 11.488950729370117\n",
            "epoch: 77 loss: 11.48823356628418\n",
            "epoch: 78 loss: 11.487544059753418\n",
            "epoch: 79 loss: 11.4868803024292\n",
            "epoch: 80 loss: 11.48624324798584\n",
            "epoch: 81 loss: 11.48563003540039\n",
            "epoch: 82 loss: 11.485040664672852\n",
            "epoch: 83 loss: 11.484474182128906\n",
            "epoch: 84 loss: 11.483928680419922\n",
            "epoch: 85 loss: 11.483404159545898\n",
            "epoch: 86 loss: 11.482900619506836\n",
            "epoch: 87 loss: 11.482416152954102\n",
            "epoch: 88 loss: 11.481949806213379\n",
            "epoch: 89 loss: 11.481502532958984\n",
            "epoch: 90 loss: 11.481071472167969\n",
            "epoch: 91 loss: 11.480657577514648\n",
            "epoch: 92 loss: 11.48025894165039\n",
            "epoch: 93 loss: 11.479875564575195\n",
            "epoch: 94 loss: 11.479507446289062\n",
            "epoch: 95 loss: 11.47915267944336\n",
            "epoch: 96 loss: 11.478812217712402\n",
            "epoch: 97 loss: 11.478485107421875\n",
            "epoch: 98 loss: 11.478170394897461\n",
            "epoch: 99 loss: 11.477867126464844\n"
          ],
          "name": "stdout"
        }
      ]
    },
    {
      "cell_type": "code",
      "metadata": {
        "id": "XodCEik-lb2U",
        "colab_type": "code",
        "colab": {
          "base_uri": "https://localhost:8080/",
          "height": 296
        },
        "outputId": "1eeba654-762c-48bf-b710-2c35af797d00"
      },
      "source": [
        "plt.plot(range(epochs),losses)\n",
        "plt.ylabel('loss')\n",
        "plt.xlabel('epoch')"
      ],
      "execution_count": 11,
      "outputs": [
        {
          "output_type": "execute_result",
          "data": {
            "text/plain": [
              "Text(0.5, 0, 'epoch')"
            ]
          },
          "metadata": {
            "tags": []
          },
          "execution_count": 11
        },
        {
          "output_type": "display_data",
          "data": {
            "image/png": "[encoded data removed]",
            "text/plain": [
              "<Figure size 432x288 with 1 Axes>"
            ]
          },
          "metadata": {
            "tags": []
          }
        }
      ]
    },
    {
      "cell_type": "code",
      "metadata": {
        "id": "D_HTClRtlkHx",
        "colab_type": "code",
        "colab": {
          "base_uri": "https://localhost:8080/",
          "height": 265
        },
        "outputId": "b2b45266-ab23-409b-9290-796ab202059c"
      },
      "source": [
        "plot_fit(\"traine model\")"
      ],
      "execution_count": 12,
      "outputs": [
        {
          "output_type": "display_data",
          "data": {
            "image/png": "[encoded data removed]",
            "text/plain": [
              "<Figure size 432x288 with 1 Axes>"
            ]
          },
          "metadata": {
            "tags": []
          }
        }
      ]
    }
  ]
}